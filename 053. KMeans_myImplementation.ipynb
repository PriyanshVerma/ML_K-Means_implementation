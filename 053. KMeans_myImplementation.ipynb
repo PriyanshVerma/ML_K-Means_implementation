{
 "cells": [
  {
   "cell_type": "code",
   "execution_count": 1,
   "metadata": {
    "collapsed": true
   },
   "outputs": [],
   "source": [
    "import numpy as np\n",
    "import matplotlib.pyplot as plt"
   ]
  },
  {
   "cell_type": "code",
   "execution_count": 2,
   "metadata": {
    "collapsed": true
   },
   "outputs": [],
   "source": [
    "X = np.array([[1,2] , [1.5,1.8] , [5,8], [8,8], [1,0.6], [9,11]])"
   ]
  },
  {
   "cell_type": "code",
   "execution_count": 3,
   "metadata": {},
   "outputs": [
    {
     "data": {
      "image/png": "[encoded data removed]",
      "text/plain": [
       "<matplotlib.figure.Figure at 0x2833889cc50>"
      ]
     },
     "metadata": {},
     "output_type": "display_data"
    }
   ],
   "source": [
    "plt.scatter(X[:,0] , X[:,1])\n",
    "plt.show()"
   ]
  },
  {
   "cell_type": "code",
   "execution_count": null,
   "metadata": {
    "collapsed": true
   },
   "outputs": [],
   "source": []
  },
  {
   "cell_type": "code",
   "execution_count": null,
   "metadata": {
    "collapsed": true
   },
   "outputs": [],
   "source": []
  },
  {
   "cell_type": "code",
   "execution_count": 24,
   "metadata": {},
   "outputs": [],
   "source": [
    "class K_Means:\n",
    "    def __init__(self, k= 2, max_iter= 100):\n",
    "        print(\"constructor\")\n",
    "        self.k = k\n",
    "        self.max_iter = max_iter\n",
    "        \n",
    "    def fit(self, data):\n",
    "        self.means = []\n",
    "        # raodom initialise thr means first\n",
    "        for i in range(self.k):\n",
    "            self.means.append(data[i]) # appending first k points as our means\n",
    "\n",
    "        for i in range(self.max_iter):\n",
    "            # assign datapoints to cluster where they belong\n",
    "\n",
    "            clusters = []\n",
    "            for j in range(self.k):\n",
    "                clusters.append([]) # create empty clusters\n",
    "\n",
    "            for point in data: # adding points to the 'k' clusters\n",
    "                distances = [((point - m)**2).sum() for m in self.means]  # find dist to all means\n",
    "                min_dist = min(distances)   # find the MIN_dist\n",
    "                l = distances.index(min_dist)  # find the mean where we got MIN_dist\n",
    "                clusters[l].append(point)    # add this point to that mean's cluster\n",
    "\n",
    "\n",
    "            # calculate new mean vals\n",
    "            change = False #used just to limit ki kitni baar iteratn krni hai means ki\n",
    "            for j in range(self.k):\n",
    "                new_mean = np.average(clusters[j], axis= 0)\n",
    "                if not np.array_equal(self.means[j], new_mean):\n",
    "                    change = True\n",
    "                self.means[j] = new_mean\n",
    "            if not change:\n",
    "                break\n",
    "\n",
    "\n",
    "    \n",
    "    def predict(self, test_data):\n",
    "        predictions = []\n",
    "        for point in test_data: # adding points to the 'k' clusters\n",
    "            distances = [((point - m)**2).sum() for m in self.means]\n",
    "            min_dist = min(distances)\n",
    "            l = distances.index(min_dist)\n",
    "            predictions.append(l)\n",
    "        return predictions "
   ]
  },
  {
   "cell_type": "code",
   "execution_count": 25,
   "metadata": {},
   "outputs": [
    {
     "name": "stdout",
     "output_type": "stream",
     "text": [
      "constructor\n"
     ]
    }
   ],
   "source": [
    "kmeans = K_Means(k= 2, max_iter= 150)"
   ]
  },
  {
   "cell_type": "code",
   "execution_count": 26,
   "metadata": {
    "collapsed": true
   },
   "outputs": [],
   "source": [
    "kmeans.fit(X)"
   ]
  },
  {
   "cell_type": "code",
   "execution_count": 29,
   "metadata": {},
   "outputs": [
    {
     "data": {
      "text/plain": [
       "[0, 0, 1, 1, 0, 1]"
      ]
     },
     "execution_count": 29,
     "metadata": {},
     "output_type": "execute_result"
    }
   ],
   "source": [
    "kmeans.predict(X)"
   ]
  },
  {
   "cell_type": "code",
   "execution_count": 30,
   "metadata": {},
   "outputs": [
    {
     "data": {
      "text/plain": [
       "[array([ 1.16666667,  1.46666667]), array([ 7.33333333,  9.        ])]"
      ]
     },
     "execution_count": 30,
     "metadata": {},
     "output_type": "execute_result"
    }
   ],
   "source": [
    "kmeans.means"
   ]
  },
  {
   "cell_type": "code",
   "execution_count": null,
   "metadata": {
    "collapsed": true
   },
   "outputs": [],
   "source": []
  },
  {
   "cell_type": "markdown",
   "metadata": {},
   "source": [
    "## Class implementation of K_means working great!"
   ]
  },
  {
   "cell_type": "code",
   "execution_count": null,
   "metadata": {
    "collapsed": true
   },
   "outputs": [],
   "source": []
  },
  {
   "cell_type": "code",
   "execution_count": null,
   "metadata": {
    "collapsed": true
   },
   "outputs": [],
   "source": []
  },
  {
   "cell_type": "code",
   "execution_count": null,
   "metadata": {
    "collapsed": true
   },
   "outputs": [],
   "source": []
  },
  {
   "cell_type": "markdown",
   "metadata": {},
   "source": [
    "## following are individual functions, where we havent packaged them in a single class"
   ]
  },
  {
   "cell_type": "code",
   "execution_count": 36,
   "metadata": {},
   "outputs": [],
   "source": [
    "def fit(data, k= 2, max_iter= 100):\n",
    "    means = []\n",
    "    # raodom initialise thr means first\n",
    "    for i in range(k):\n",
    "        means.append(data[i]) # appending first k points as our means\n",
    "        \n",
    "    for i in range(max_iter):\n",
    "        # assign datapoints to cluster where they belong\n",
    "        \n",
    "        clusters = []\n",
    "        for j in range(k):\n",
    "            clusters.append([]) # create empty clusters\n",
    "            \n",
    "        for point in data: # adding points to the 'k' clusters\n",
    "            distances = [((point - m)**2).sum() for m in means]  # find dist to all means\n",
    "            min_dist = min(distances)   # find the MIN_dist\n",
    "            l = distances.index(min_dist)  # find the mean where we got MIN_dist\n",
    "            clusters[l].append(point)    # add this point to that mean's cluster\n",
    "            \n",
    "            \n",
    "        # calculate new mean vals\n",
    "        change = False #used just to limit ki kitni baar iteratn krni hai means ki\n",
    "        for j in range(k):\n",
    "            new_mean = np.average(clusters[j], axis= 0)\n",
    "            if not np.array_equal(means[j] , new_mean):\n",
    "                change = True\n",
    "            means[j] = new_mean\n",
    "        if not change:\n",
    "            break\n",
    "                               \n",
    "    return means"
   ]
  },
  {
   "cell_type": "code",
   "execution_count": 37,
   "metadata": {},
   "outputs": [],
   "source": [
    "means = fit(X)"
   ]
  },
  {
   "cell_type": "code",
   "execution_count": null,
   "metadata": {
    "collapsed": true
   },
   "outputs": [],
   "source": []
  },
  {
   "cell_type": "code",
   "execution_count": 38,
   "metadata": {
    "collapsed": true
   },
   "outputs": [],
   "source": [
    "def predict(test_data, means):\n",
    "    predictions = []\n",
    "    for point in test_data: # adding points to the 'k' clusters\n",
    "        distances = [((point - m)**2).sum() for m in means]\n",
    "        min_dist = min(distances)\n",
    "        l = distances.index(min_dist)\n",
    "        predictions.append(l)\n",
    "    return predictions      "
   ]
  },
  {
   "cell_type": "code",
   "execution_count": 39,
   "metadata": {},
   "outputs": [
    {
     "data": {
      "text/plain": [
       "[0, 0, 1, 1, 0, 1]"
      ]
     },
     "execution_count": 39,
     "metadata": {},
     "output_type": "execute_result"
    }
   ],
   "source": [
    "predict(X, means)"
   ]
  },
  {
   "cell_type": "markdown",
   "metadata": {},
   "source": [
    "### We are getting the EXACT same predictions as we were getting from sklearn'ms implementation of KMeans"
   ]
  }
 ],
 "metadata": {
  "kernelspec": {
   "display_name": "Python 3",
   "language": "python",
   "name": "python3"
  },
  "language_info": {
   "codemirror_mode": {
    "name": "ipython",
    "version": 3
   },
   "file_extension": ".py",
   "mimetype": "text/x-python",
   "name": "python",
   "nbconvert_exporter": "python",
   "pygments_lexer": "ipython3",
   "version": "3.5.4"
  }
 },
 "nbformat": 4,
 "nbformat_minor": 2
}
